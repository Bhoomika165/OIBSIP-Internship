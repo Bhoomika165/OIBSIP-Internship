{
  "nbformat": 4,
  "nbformat_minor": 0,
  "metadata": {
    "colab": {
      "provenance": [],
      "authorship_tag": "ABX9TyO8CoafJzWlfgmn3NlTkFix",
      "include_colab_link": true
    },
    "kernelspec": {
      "name": "python3",
      "display_name": "Python 3"
    },
    "language_info": {
      "name": "python"
    }
  },
  "cells": [
    {
      "cell_type": "markdown",
      "metadata": {
        "id": "view-in-github",
        "colab_type": "text"
      },
      "source": [
        "<a href=\"https://colab.research.google.com/github/Bhoomika165/OIBSIP-Internship/blob/main/OASIS_TASK_3.ipynb\" target=\"_parent\"><img src=\"https://colab.research.google.com/assets/colab-badge.svg\" alt=\"Open In Colab\"/></a>"
      ]
    },
    {
      "cell_type": "markdown",
      "source": [
        "Task-3 : Random Password Generator\n",
        "\n",
        "Create a command-line password generator in Python that generates random passwords based on user-defined criteria, such as length and character types (letters, numbers, symbols). Allow users to specify password length and character set preferences."
      ],
      "metadata": {
        "id": "sXScEzOw6Mv-"
      }
    },
    {
      "cell_type": "code",
      "execution_count": 21,
      "metadata": {
        "colab": {
          "base_uri": "https://localhost:8080/"
        },
        "id": "KMUkABycwVQQ",
        "outputId": "0c1bd534-18c6-4c38-ebbd-960a06093b82"
      },
      "outputs": [
        {
          "output_type": "stream",
          "name": "stdout",
          "text": [
            "Enter the length of the password: 11\n",
            "Select the type of password:\n",
            "1.letters \n",
            "2.numbers \n",
            "3.symbols\n",
            "\n",
            "do you want to include letters? (yes/no): yes\n",
            "do you want to include numbers? (yes/no): yes\n",
            "do you want to include symbols? (yes/no): no\n",
            "Your generated password is: G8qsxiwwTuU\n"
          ]
        }
      ],
      "source": [
        "# Importing required libraries\n",
        "import random\n",
        "import string\n",
        "\n",
        "# Defining password generating function\n",
        "def generate_password(length, choice1=True, choice2=True, choice3=True):\n",
        "  characters = ''\n",
        "  if choice1:\n",
        "    characters += string.ascii_letters\n",
        "  if choice2:\n",
        "    characters += string.digits\n",
        "  if choice3:\n",
        "    characters += string.punctuation\n",
        "  if not characters:\n",
        "    print(\"Enter correct choice\")\n",
        "    return None\n",
        "\n",
        "  password = ''.join(random.choice(characters) for _ in range(length))\n",
        "  return password\n",
        "\n",
        "# knowing the length from the user\n",
        "length = int(input(\"Enter the length of the password: \"))\n",
        "\n",
        "# Selecting the type of password\n",
        "print('''Select the type of password:\n",
        "1.letters\n",
        "2.numbers\n",
        "3.symbols\n",
        "''')\n",
        "\n",
        "# Checking whether the user wants to include letters/numbers/symbols\n",
        "choice1 = input(\"do you want to include letters? (yes/no): \").lower() == 'yes'\n",
        "choice2 = input(\"do you want to include numbers? (yes/no): \").lower() == 'yes'\n",
        "choice3 = input(\"do you want to include symbols? (yes/no): \").lower() == 'yes'\n",
        "\n",
        "# Generating the password\n",
        "password = generate_password(length, choice1, choice2, choice3)\n",
        "if password:\n",
        "  print(\"Your generated password is:\", password)\n"
      ]
    },
    {
      "cell_type": "code",
      "source": [],
      "metadata": {
        "id": "0CwmODPDJUny"
      },
      "execution_count": null,
      "outputs": []
    }
  ]
}