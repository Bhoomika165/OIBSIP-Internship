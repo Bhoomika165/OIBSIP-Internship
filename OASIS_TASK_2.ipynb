{
  "nbformat": 4,
  "nbformat_minor": 0,
  "metadata": {
    "colab": {
      "provenance": [],
      "authorship_tag": "ABX9TyMqU2+kZWUZQbGSS1eQbylQ",
      "include_colab_link": true
    },
    "kernelspec": {
      "name": "python3",
      "display_name": "Python 3"
    },
    "language_info": {
      "name": "python"
    }
  },
  "cells": [
    {
      "cell_type": "markdown",
      "metadata": {
        "id": "view-in-github",
        "colab_type": "text"
      },
      "source": [
        "<a href=\"https://colab.research.google.com/github/Bhoomika165/OIBSIP-Internship/blob/main/OASIS_TASK_2.ipynb\" target=\"_parent\"><img src=\"https://colab.research.google.com/assets/colab-badge.svg\" alt=\"Open In Colab\"/></a>"
      ]
    },
    {
      "cell_type": "markdown",
      "source": [
        "Task-2 : Create a command-line BMI calculator in Python. Prompt users for their weight (in kilograms) and height (in meters). Calculate the BMI and classify it into categories (e.g., underweight, normal, overweight) based on predefined ranges. Display the BMI result and category to the user.\n"
      ],
      "metadata": {
        "id": "DIXjVP23qrOW"
      }
    },
    {
      "cell_type": "code",
      "execution_count": 5,
      "metadata": {
        "colab": {
          "base_uri": "https://localhost:8080/"
        },
        "id": "iWtFxkMR1nN5",
        "outputId": "11c424eb-19cd-43f5-8bf3-65a2cc66109b"
      },
      "outputs": [
        {
          "output_type": "stream",
          "name": "stdout",
          "text": [
            "Enter your weight in kilograms: 70\n",
            "Enter your height in meters: 1.8\n",
            "Your BMI is: 21.60\n",
            "You are classified into the category:\n",
            "Normal weight\n"
          ]
        }
      ],
      "source": [
        "#Ask the weight from the user\n",
        "weight = float(input(\"Enter your weight in kilograms: \"))\n",
        "#Ask the height from the user\n",
        "height = float(input(\"Enter your height in meters: \"))\n",
        "#calculate the BMI\n",
        "bmi = weight / (height ** 2)\n",
        "\n",
        "#Display the results\n",
        "print(f\"Your BMI is: {bmi:.2f}\")\n",
        "print(f\"You are classified into the category:\")\n",
        "if bmi < 18.5:\n",
        "  print(\"Underweight\")\n",
        "elif 18.5 <= bmi < 25:\n",
        "  print(\"Normal weight\")\n",
        "elif 25 <= bmi < 30:\n",
        "  print(\"Overweight\")\n",
        "else:\n",
        "  print(\"Obese\")\n"
      ]
    },
    {
      "cell_type": "code",
      "source": [],
      "metadata": {
        "id": "ifHK-DWtr4Sj"
      },
      "execution_count": null,
      "outputs": []
    }
  ]
}