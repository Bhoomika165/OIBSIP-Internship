{
  "nbformat": 4,
  "nbformat_minor": 0,
  "metadata": {
    "colab": {
      "provenance": [],
      "authorship_tag": "ABX9TyNnNwSHtMFlvHVhI+kMVYpu",
      "include_colab_link": true
    },
    "kernelspec": {
      "name": "python3",
      "display_name": "Python 3"
    },
    "language_info": {
      "name": "python"
    }
  },
  "cells": [
    {
      "cell_type": "markdown",
      "metadata": {
        "id": "view-in-github",
        "colab_type": "text"
      },
      "source": [
        "<a href=\"https://colab.research.google.com/github/Bhoomika165/OIBSIP-Internship/blob/main/OASIS_TASK_4.ipynb\" target=\"_parent\"><img src=\"https://colab.research.google.com/assets/colab-badge.svg\" alt=\"Open In Colab\"/></a>"
      ]
    },
    {
      "cell_type": "markdown",
      "source": [
        "Task: Basic Weather App\n",
        "\n",
        "Create a command-line weather app in Python that fetches and displays current weather data for a user-specified location (e.g., city or ZIP code) using a weather API. Show basic information such as temperature, humidity, and weather conditions."
      ],
      "metadata": {
        "id": "aR57jreZCbdf"
      }
    },
    {
      "cell_type": "code",
      "source": [
        "# Importing required libraries\n",
        "import requests\n",
        "import json\n",
        "\n",
        "# Getting the location from the user\n",
        "location = input(\"Enter a city name or ZIP code: \")\n",
        "\n",
        "# Adding the whether API key and url\n",
        "api_key = \"250ea065ef1d73a465725c2260c89bae\"\n",
        "url = f\"http://api.openweathermap.org/data/2.5/weather?q={location}&appid={api_key}&units=metric\"\n",
        "\n",
        "# Getting response from the url and collecting the data in json format\n",
        "response = requests.get(url)\n",
        "data = response.json()\n",
        "\n",
        "if data[\"cod\"] == \"404\":\n",
        "  print(\"City not found.\")\n",
        "else:\n",
        "  city = data[\"name\"]\n",
        "  country = data[\"sys\"][\"country\"]\n",
        "  temperature = data[\"main\"][\"temp\"]\n",
        "  humidity = data[\"main\"][\"humidity\"]\n",
        "  weather = data[\"weather\"][0][\"description\"]\n",
        "  coordinates = data[\"coord\"]\n",
        "\n",
        "  # Displaying the required data\n",
        "  print(f\"Weather in {city},{country}:\")\n",
        "  print(f\"Temperature: {temperature}°C\")\n",
        "  print(f\"Humidity: {humidity}%\")\n",
        "  print(f\"Weather Condition: {weather}\")\n",
        "  print(f\"Coordinates: {coordinates}\")"
      ],
      "metadata": {
        "colab": {
          "base_uri": "https://localhost:8080/"
        },
        "id": "w4L5YQ5--daq",
        "outputId": "218237c9-13a0-43d2-e668-e702d6c86661"
      },
      "execution_count": 33,
      "outputs": [
        {
          "output_type": "stream",
          "name": "stdout",
          "text": [
            "Enter a city name or ZIP code: hyderabad\n",
            "Weather in Hyderabad,IN:\n",
            "Temperature: 28.23°C\n",
            "Humidity: 47%\n",
            "Weather Condition: scattered clouds\n",
            "Coordinates: {'lon': 78.4744, 'lat': 17.3753}\n"
          ]
        }
      ]
    },
    {
      "cell_type": "code",
      "source": [],
      "metadata": {
        "id": "mUM4XQwzAGgS"
      },
      "execution_count": null,
      "outputs": []
    }
  ]
}